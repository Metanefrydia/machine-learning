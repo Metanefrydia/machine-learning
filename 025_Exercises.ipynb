{
 "cells": [
  {
   "cell_type": "markdown",
   "metadata": {},
   "source": [
    "# Exercises\n",
    "\n",
    "There are three exercises in this notebook:\n",
    "\n",
    "1. Use the cross-validation method to test the linear regression with different $\\alpha$ values, at least three.\n",
    "2. Implement a SGD method that will train the Lasso regression for 10 epochs.\n",
    "3. Extend the Fisher's classifier to work with two features. Use the class as the $y$."
   ]
  },
  {
   "cell_type": "markdown",
   "metadata": {},
   "source": [
    "## 1. Cross-validation linear regression\n",
    "\n",
    "You need to change the variable ``alpha`` to be a list of alphas. Next do a loop and finally compare the results."
   ]
  },
  {
   "cell_type": "code",
   "execution_count": 108,
   "metadata": {},
   "outputs": [
    {
     "data": {
      "text/html": [
       "<div>\n",
       "<style scoped>\n",
       "    .dataframe tbody tr th:only-of-type {\n",
       "        vertical-align: middle;\n",
       "    }\n",
       "\n",
       "    .dataframe tbody tr th {\n",
       "        vertical-align: top;\n",
       "    }\n",
       "\n",
       "    .dataframe thead th {\n",
       "        text-align: right;\n",
       "    }\n",
       "</style>\n",
       "<table border=\"1\" class=\"dataframe\">\n",
       "  <thead>\n",
       "    <tr style=\"text-align: right;\">\n",
       "      <th></th>\n",
       "      <th>w1</th>\n",
       "      <th>w2</th>\n",
       "    </tr>\n",
       "  </thead>\n",
       "  <tbody>\n",
       "    <tr>\n",
       "      <th>alpha = 1</th>\n",
       "      <td>-20.590447</td>\n",
       "      <td>0.710486</td>\n",
       "    </tr>\n",
       "    <tr>\n",
       "      <th>alpha = 10</th>\n",
       "      <td>-2.291063</td>\n",
       "      <td>0.606881</td>\n",
       "    </tr>\n",
       "    <tr>\n",
       "      <th>alpha = 100</th>\n",
       "      <td>-0.228730</td>\n",
       "      <td>0.595091</td>\n",
       "    </tr>\n",
       "  </tbody>\n",
       "</table>\n",
       "</div>"
      ],
      "text/plain": [
       "                    w1        w2\n",
       "alpha = 1   -20.590447  0.710486\n",
       "alpha = 10   -2.291063  0.606881\n",
       "alpha = 100  -0.228730  0.595091"
      ]
     },
     "execution_count": 108,
     "metadata": {},
     "output_type": "execute_result"
    }
   ],
   "source": [
    "import numpy as np\n",
    "import pandas as pd\n",
    "\n",
    "x = np.array([188, 181, 197, 168, 167, 187, 178, 194, 140, 176, 168, 192, 173, 142, 176]).reshape(-1, 1).reshape(15,1)\n",
    "y = np.array([141, 106, 149, 59, 79, 136, 65, 136, 52, 87, 115, 140, 82, 69, 121]).reshape(-1, 1).reshape(15,1)\n",
    "\n",
    "x = np.asmatrix(np.c_[np.ones((15,1)),x])\n",
    "\n",
    "I = np.identity(2)\n",
    "alpha = [1, 10, 100]\n",
    "results = []\n",
    "\n",
    "for i in range(len(alpha)):\n",
    "    w = np.linalg.inv(x.T * x + alpha[i] * I) * x.T * y\n",
    "    w = w.ravel()\n",
    "    results.append(w)\n",
    "\n",
    "results = np.asarray(results).flatten().reshape(3,2)\n",
    "table = pd.DataFrame(data=results, index=[\"alpha = 1\", \"alpha = 10\", \"alpha = 100\"], columns=[\"w1\", \"w2\"])\n",
    "table"
   ]
  },
  {
   "cell_type": "markdown",
   "metadata": {},
   "source": [
    "## 2. Implement based on the Ridge regression example, the Lasso regression.\n",
    "\n",
    "Please implement the SGD method and compare the results with the sklearn Lasso regression results. "
   ]
  },
  {
   "cell_type": "code",
   "execution_count": 109,
   "metadata": {},
   "outputs": [],
   "source": [
    "def sgd(coeffs, x, y, epochs, rate, l1):\n",
    "    norm = np.linalg.norm(x, axis = 0)\n",
    "    w, b, m, n = coeffs[0], coeffs[1], y.shape[0], x.shape[1]\n",
    "    for i in range(epochs):\n",
    "        x_in = x[:,1].reshape(-1, 1)\n",
    "        y_pred = x_in * w + b\n",
    "        if w > 0:\n",
    "            dW = (- (2 * x_in.T.dot(y - y_pred)) + l1 ) / norm[1] ** 2\n",
    "        else:\n",
    "            dW = (- (2 * x_in.T.dot(y - y_pred)) - l1 ) / norm[1] ** 2\n",
    "        db = - 2 * np.sum(y - y_pred) // norm[0] ** 2\n",
    "        w = w - rate * dW\n",
    "        b = b - rate * db\n",
    "    coeffs[0] = b\n",
    "    coeffs[1] = w\n",
    "    return coeffs"
   ]
  },
  {
   "cell_type": "code",
   "execution_count": 110,
   "metadata": {},
   "outputs": [
    {
     "data": {
      "text/html": [
       "<div>\n",
       "<style scoped>\n",
       "    .dataframe tbody tr th:only-of-type {\n",
       "        vertical-align: middle;\n",
       "    }\n",
       "\n",
       "    .dataframe tbody tr th {\n",
       "        vertical-align: top;\n",
       "    }\n",
       "\n",
       "    .dataframe thead th {\n",
       "        text-align: right;\n",
       "    }\n",
       "</style>\n",
       "<table border=\"1\" class=\"dataframe\">\n",
       "  <thead>\n",
       "    <tr style=\"text-align: right;\">\n",
       "      <th></th>\n",
       "      <th>w1</th>\n",
       "      <th>w2</th>\n",
       "    </tr>\n",
       "  </thead>\n",
       "  <tbody>\n",
       "    <tr>\n",
       "      <th>sklearn lasso</th>\n",
       "      <td>-101.900000</td>\n",
       "      <td>1.169511</td>\n",
       "    </tr>\n",
       "    <tr>\n",
       "      <th>sgd</th>\n",
       "      <td>-101.723971</td>\n",
       "      <td>1.169788</td>\n",
       "    </tr>\n",
       "  </tbody>\n",
       "</table>\n",
       "</div>"
      ],
      "text/plain": [
       "                       w1        w2\n",
       "sklearn lasso -101.900000  1.169511\n",
       "sgd           -101.723971  1.169788"
      ]
     },
     "execution_count": 110,
     "metadata": {},
     "output_type": "execute_result"
    }
   ],
   "source": [
    "x = np.array([188, 181, 197, 168, 167, 187, 178, 194, 140, 176, 168, 192, 173, 142, 176]).reshape(-1, 1).reshape(15,1)\n",
    "y = np.array([141, 106, 149, 59, 79, 136, 65, 136, 52, 87, 115, 140, 82, 69, 121]).reshape(-1, 1).reshape(15,1)\n",
    "\n",
    "x = np.asmatrix(np.c_[np.ones((15,1)),x])\n",
    "\n",
    "I = np.identity(2)\n",
    "alpha = 0.1\n",
    "init_c = np.zeros((2,1))\n",
    "results = []\n",
    "\n",
    "w2 = sgd(init_c, x, y, 1600, 0.1, alpha)\n",
    "w2 = w2.ravel()\n",
    "results.append(w2)\n",
    "\n",
    "w1 = np.linalg.inv(x.T * x + alpha * I) * x.T * y\n",
    "w1 = w1.ravel()\n",
    "w1 = np.squeeze(np.asarray(w1))\n",
    "results.append(w1)\n",
    "\n",
    "results = np.asarray(results).flatten().reshape(2,2)\n",
    "table = pd.DataFrame(data=results, index=[\"sklearn lasso\", \"sgd\"], columns=[\"w1\", \"w2\"])\n",
    "table"
   ]
  },
  {
   "cell_type": "markdown",
   "metadata": {},
   "source": [
    "## 3. Extend the Fisher's classifier\n",
    "\n",
    "Please extend the targets of the ``iris_data`` variable and use it as the $y$."
   ]
  },
  {
   "cell_type": "code",
   "execution_count": 111,
   "metadata": {},
   "outputs": [],
   "source": [
    "import matplotlib.pyplot as plt\n",
    "from sklearn.datasets import load_iris\n",
    "\n",
    "iris_data = load_iris()\n",
    "iris_df = pd.DataFrame(iris_data.data,columns=iris_data.feature_names)\n",
    "iris_target_df = pd.DataFrame(iris_data.target)\n",
    "\n",
    "x = iris_df[['sepal width (cm)', 'sepal length (cm)']].values\n",
    "y = iris_target_df.values\n",
    "\n",
    "dataset_size = np.size(y)\n",
    "mean_x, mean_y = np.mean(x), np.mean(y)\n",
    "\n",
    "SS_xy = np.sum(y * x) - dataset_size * mean_y * mean_x\n",
    "SS_xx = np.sum(x * x) - dataset_size * mean_x * mean_x\n",
    "\n",
    "a = SS_xy / SS_xx\n",
    "b = mean_y - a * mean_x\n",
    "\n",
    "y_pred = a * x + b"
   ]
  }
 ],
 "metadata": {
  "kernelspec": {
   "display_name": "Python 3",
   "language": "python",
   "name": "python3"
  },
  "language_info": {
   "codemirror_mode": {
    "name": "ipython",
    "version": 3
   },
   "file_extension": ".py",
   "mimetype": "text/x-python",
   "name": "python",
   "nbconvert_exporter": "python",
   "pygments_lexer": "ipython3",
   "version": "3.6.9"
  }
 },
 "nbformat": 4,
 "nbformat_minor": 4
}
